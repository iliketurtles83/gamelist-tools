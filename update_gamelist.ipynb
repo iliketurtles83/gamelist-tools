{
 "cells": [
  {
   "cell_type": "code",
   "execution_count": 13,
   "metadata": {},
   "outputs": [],
   "source": [
    "import pandas as pd\n",
    "import xml.etree.ElementTree as ET\n",
    "import os\n",
    "from fuzzywuzzy import fuzz"
   ]
  },
  {
   "cell_type": "markdown",
   "metadata": {},
   "source": [
    "### from the dbs of\n",
    "http://jujuvincebros.fr/telechargements2/file/10-arrm-another-recalbox-roms-manager"
   ]
  },
  {
   "cell_type": "code",
   "execution_count": 14,
   "metadata": {},
   "outputs": [],
   "source": [
    "# mdb file was split into 3 files due to MS Acces export limitations\n",
    "Game = pd.read_excel('Game.xlsx')\n",
    "Game1 = pd.read_excel('Game1.xlsx')\n",
    "Game3 = pd.read_excel('Game3.xlsx')"
   ]
  },
  {
   "cell_type": "code",
   "execution_count": 15,
   "metadata": {},
   "outputs": [],
   "source": [
    "# combine all the dataframes into one\n",
    "Game = pd.concat([Game, Game1, Game3], ignore_index=True)"
   ]
  },
  {
   "cell_type": "code",
   "execution_count": 16,
   "metadata": {},
   "outputs": [
    {
     "data": {
      "text/plain": [
       "Index(['Name', 'ReleaseYear', 'Overview', 'MaxPlayers', 'ReleaseType',\n",
       "       'Cooperative', 'VideoURL', 'CommunityRating', 'Platform', 'ESRB',\n",
       "       'CommunityRatingCount', 'Genres', 'Developer', 'Publisher', 'N°',\n",
       "       'DatabaseID', 'WikipediaURL', 'AlternateName_Australia',\n",
       "       'AlternateName_Brazil', 'AlternateName_China', 'AlternateName_Europe',\n",
       "       'AlternateName_France', 'AlternateName_Germany', 'AlternateName_Japan',\n",
       "       'AlternateName_Korea', 'AlternateName_NorthAmerica',\n",
       "       'AlternateName_Spain', 'AlternateName_UnitedStates',\n",
       "       'AlternateName_World'],\n",
       "      dtype='object')"
      ]
     },
     "execution_count": 16,
     "metadata": {},
     "output_type": "execute_result"
    }
   ],
   "source": [
    "Game.columns"
   ]
  },
  {
   "cell_type": "code",
   "execution_count": 17,
   "metadata": {},
   "outputs": [
    {
     "data": {
      "text/plain": [
       "array(['Nintendo Game Boy Advance', 'Nintendo Game Boy Color',\n",
       "       'Nintendo GameCube', 'Nintendo Pokemon Mini',\n",
       "       'Nintendo Satellaview', 'Nintendo Switch', 'Nintendo Virtual Boy',\n",
       "       'Nintendo Wii', 'Nintendo Wii U', 'Nokia N-Gage', 'Nuon',\n",
       "       'OpenBOR', 'Oric Atmos', 'Othello Multivision', 'Ouya',\n",
       "       'PC Engine SuperGrafx', 'Philips CD-i', 'Philips VG 5000',\n",
       "       'Philips Videopac+', 'Pinball', 'RCA Studio II', 'SAM Coupé',\n",
       "       'Sammy Atomiswave', 'ScummVM', 'Sega 32X', 'Sega CD',\n",
       "       'Sega CD 32X', 'Sega Dreamcast', 'Sega Dreamcast VMU',\n",
       "       'Sega Game Gear', 'Sega Genesis', 'Sega Hikaru',\n",
       "       'Sega Master System', 'Sega Model 1', 'Sega Model 2',\n",
       "       'Sega Model 3', 'Sega Naomi', 'Sega Naomi 2', 'Sega Pico',\n",
       "       'Sega Saturn', 'Sega SC-3000', 'Sega SG-1000', 'Sega ST-V',\n",
       "       'Sega System 16', 'Sega System 32', 'Sega Triforce',\n",
       "       'Sharp MZ-2500', 'Sharp X1', 'Sharp X68000',\n",
       "       'Sinclair ZX Spectrum', 'Sinclair ZX-81', 'SNK Neo Geo AES',\n",
       "       'SNK Neo Geo CD', 'SNK Neo Geo MVS', 'SNK Neo Geo Pocket',\n",
       "       'SNK Neo Geo Pocket Color', 'Sony Playstation',\n",
       "       'Sony Playstation 2', 'Sony Playstation 3', 'Sony Playstation 4',\n",
       "       'Sony Playstation 5', 'Sony Playstation Vita',\n",
       "       'Sony PocketStation', 'Sony PSP', 'Sony PSP Minis', 'Sord M5',\n",
       "       'Spectravideo', 'Super Nintendo Entertainment System',\n",
       "       'Taito Type X', 'Tandy TRS-80', 'Tapwave Zodiac',\n",
       "       'Texas Instruments TI 99/4A', 'Tiger Game.com', 'Tomy Tutor',\n",
       "       'TRS-80 Color Computer', 'Vector-06C', 'VTech CreatiVision',\n",
       "       'VTech Socrates', 'Watara Supervision', 'Web Browser', 'Windows',\n",
       "       'Windows 3.X', 'WonderSwan', 'WonderSwan Color', 'WoW Action Max',\n",
       "       'XaviXPORT', 'ZiNc', 'Commodore 64', 'Commodore Amiga',\n",
       "       'Commodore Amiga CD32', 'Commodore CDTV', 'Commodore MAX Machine',\n",
       "       'Commodore PET', 'Commodore Plus 4', 'Commodore VIC-20',\n",
       "       'Dragon 32/64', 'EACA EG2000 Colour Genie', 'Elektronika BK',\n",
       "       'Emerson Arcadia 2001', 'Enterprise', 'Entex Adventure Vision',\n",
       "       'Epoch Game Pocket Computer', 'Epoch Super Cassette Vision',\n",
       "       'Exelvision EXL 100', 'Exidy Sorcerer', 'Fairchild Channel F',\n",
       "       'Fujitsu FM Towns Marty', 'Fujitsu FM-7', 'Funtech Super Acan',\n",
       "       'Game Wave Family Entertainment System', 'GamePark GP32',\n",
       "       'GameWave', 'GCE Vectrex', 'Hartung Game Master', 'Hector HRX',\n",
       "       'Interton VC 4000', 'Jupiter Ace', 'Linux', 'Magnavox Odyssey',\n",
       "       'Magnavox Odyssey 2', 'Matra and Hachette Alice',\n",
       "       'Mattel Aquarius', 'Mattel HyperScan', 'Mattel Intellivision',\n",
       "       'Mega Duck', 'Memotech MTX512', 'Microsoft MSX', 'Microsoft MSX2',\n",
       "       'Microsoft MSX2+', 'Microsoft Xbox', 'Microsoft Xbox 360',\n",
       "       'Microsoft Xbox One', 'MS-DOS', 'MUGEN', 'Namco System 22',\n",
       "       'NEC PC-8801', 'NEC PC-9801', 'NEC PC-FX', 'NEC TurboGrafx-16',\n",
       "       'NEC TurboGrafx-CD', 'Nintendo 3DS', 'Nintendo 64',\n",
       "       'Nintendo 64DD', 'Nintendo DS', 'Nintendo Entertainment System',\n",
       "       'Nintendo Famicom Disk System', 'Nintendo Game & Watch',\n",
       "       'Nintendo Game Boy', '3DO Interactive Multiplayer',\n",
       "       'Aamber Pegasus', 'Acorn Archimedes', 'Acorn Atom',\n",
       "       'Acorn Electron', 'Amstrad CPC', 'Amstrad GX4000', 'Android',\n",
       "       'APF Imagination Machine', 'Apogee BK-01', 'Apple II',\n",
       "       'Apple IIGS', 'Apple iOS', 'Apple Mac OS', 'Arcade', 'Atari 2600',\n",
       "       'Atari 5200', 'Atari 7800', 'Atari 800', 'Atari Jaguar',\n",
       "       'Atari Jaguar CD', 'Atari Lynx', 'Atari ST', 'Atari XEGS',\n",
       "       'Bally Astrocade', 'BBC Microcomputer System', 'Camputers Lynx',\n",
       "       'Casio Loopy', 'Casio PV-1000', 'Coleco ADAM', 'ColecoVision',\n",
       "       'Commodore 128'], dtype=object)"
      ]
     },
     "execution_count": 17,
     "metadata": {},
     "output_type": "execute_result"
    }
   ],
   "source": [
    "Game['Platform'].unique()"
   ]
  },
  {
   "cell_type": "code",
   "execution_count": 18,
   "metadata": {},
   "outputs": [
    {
     "data": {
      "text/plain": [
       "Name                               0\n",
       "ReleaseYear                   149502\n",
       "Overview                       19003\n",
       "MaxPlayers                     54422\n",
       "ReleaseType                    27485\n",
       "Cooperative                        0\n",
       "VideoURL                      152920\n",
       "CommunityRating                67180\n",
       "Platform                           0\n",
       "ESRB                           61149\n",
       "CommunityRatingCount               0\n",
       "Genres                         17336\n",
       "Developer                      24918\n",
       "Publisher                      23723\n",
       "N°                            101100\n",
       "DatabaseID                    101100\n",
       "WikipediaURL                  197030\n",
       "AlternateName_Australia       232956\n",
       "AlternateName_Brazil          232950\n",
       "AlternateName_China           233100\n",
       "AlternateName_Europe          233100\n",
       "AlternateName_France          232078\n",
       "AlternateName_Germany         231082\n",
       "AlternateName_Japan           224292\n",
       "AlternateName_Korea           232737\n",
       "AlternateName_NorthAmerica    233100\n",
       "AlternateName_Spain           231180\n",
       "AlternateName_UnitedStates    233100\n",
       "AlternateName_World           211239\n",
       "dtype: int64"
      ]
     },
     "execution_count": 18,
     "metadata": {},
     "output_type": "execute_result"
    }
   ],
   "source": [
    "# missing values\n",
    "Game.isnull().sum()"
   ]
  },
  {
   "cell_type": "code",
   "execution_count": 19,
   "metadata": {},
   "outputs": [],
   "source": [
    "# Read the platform mappings from a text file and create a dictionary\n",
    "platform_mappings = {}\n",
    "with open('systems.txt', 'r') as mapping_file:\n",
    "    for line in mapping_file:\n",
    "        abbreviated, full_name = line.strip().split(': ')\n",
    "        platform_mappings[abbreviated] = full_name"
   ]
  },
  {
   "cell_type": "code",
   "execution_count": 21,
   "metadata": {},
   "outputs": [
    {
     "name": "stdout",
     "output_type": "stream",
     "text": [
      "5.0\n",
      "0.5\n"
     ]
    }
   ],
   "source": [
    "# CommunityRating max and min\n",
    "print(Game['CommunityRating'].max())\n",
    "print(Game['CommunityRating'].min())"
   ]
  },
  {
   "cell_type": "code",
   "execution_count": 22,
   "metadata": {},
   "outputs": [],
   "source": [
    "# import video game dataset all_games.csv with metacritic scores\n",
    "mc_df = pd.read_csv('all_games.csv')"
   ]
  },
  {
   "cell_type": "code",
   "execution_count": 26,
   "metadata": {},
   "outputs": [
    {
     "data": {
      "text/html": [
       "<div>\n",
       "<style scoped>\n",
       "    .dataframe tbody tr th:only-of-type {\n",
       "        vertical-align: middle;\n",
       "    }\n",
       "\n",
       "    .dataframe tbody tr th {\n",
       "        vertical-align: top;\n",
       "    }\n",
       "\n",
       "    .dataframe thead th {\n",
       "        text-align: right;\n",
       "    }\n",
       "</style>\n",
       "<table border=\"1\" class=\"dataframe\">\n",
       "  <thead>\n",
       "    <tr style=\"text-align: right;\">\n",
       "      <th></th>\n",
       "      <th>name</th>\n",
       "      <th>platform</th>\n",
       "      <th>release_date</th>\n",
       "      <th>summary</th>\n",
       "      <th>meta_score</th>\n",
       "      <th>user_review</th>\n",
       "      <th>meta_score_ten</th>\n",
       "    </tr>\n",
       "  </thead>\n",
       "  <tbody>\n",
       "    <tr>\n",
       "      <th>0</th>\n",
       "      <td>The Legend of Zelda: Ocarina of Time</td>\n",
       "      <td>Nintendo 64</td>\n",
       "      <td>November 23, 1998</td>\n",
       "      <td>As a young boy, Link is tricked by Ganondorf, ...</td>\n",
       "      <td>99</td>\n",
       "      <td>9.1</td>\n",
       "      <td>9.9</td>\n",
       "    </tr>\n",
       "    <tr>\n",
       "      <th>1</th>\n",
       "      <td>Tony Hawk's Pro Skater 2</td>\n",
       "      <td>PlayStation</td>\n",
       "      <td>September 20, 2000</td>\n",
       "      <td>As most major publishers' development efforts ...</td>\n",
       "      <td>98</td>\n",
       "      <td>7.4</td>\n",
       "      <td>9.8</td>\n",
       "    </tr>\n",
       "    <tr>\n",
       "      <th>2</th>\n",
       "      <td>Grand Theft Auto IV</td>\n",
       "      <td>PlayStation 3</td>\n",
       "      <td>April 29, 2008</td>\n",
       "      <td>[Metacritic's 2008 PS3 Game of the Year; Also ...</td>\n",
       "      <td>98</td>\n",
       "      <td>7.7</td>\n",
       "      <td>9.8</td>\n",
       "    </tr>\n",
       "    <tr>\n",
       "      <th>3</th>\n",
       "      <td>SoulCalibur</td>\n",
       "      <td>Dreamcast</td>\n",
       "      <td>September 8, 1999</td>\n",
       "      <td>This is a tale of souls and swords, transcendi...</td>\n",
       "      <td>98</td>\n",
       "      <td>8.4</td>\n",
       "      <td>9.8</td>\n",
       "    </tr>\n",
       "    <tr>\n",
       "      <th>4</th>\n",
       "      <td>Grand Theft Auto IV</td>\n",
       "      <td>Xbox 360</td>\n",
       "      <td>April 29, 2008</td>\n",
       "      <td>[Metacritic's 2008 Xbox 360 Game of the Year; ...</td>\n",
       "      <td>98</td>\n",
       "      <td>7.9</td>\n",
       "      <td>9.8</td>\n",
       "    </tr>\n",
       "  </tbody>\n",
       "</table>\n",
       "</div>"
      ],
      "text/plain": [
       "                                   name        platform        release_date  \\\n",
       "0  The Legend of Zelda: Ocarina of Time     Nintendo 64   November 23, 1998   \n",
       "1              Tony Hawk's Pro Skater 2     PlayStation  September 20, 2000   \n",
       "2                   Grand Theft Auto IV   PlayStation 3      April 29, 2008   \n",
       "3                           SoulCalibur       Dreamcast   September 8, 1999   \n",
       "4                   Grand Theft Auto IV        Xbox 360      April 29, 2008   \n",
       "\n",
       "                                             summary  meta_score user_review  \\\n",
       "0  As a young boy, Link is tricked by Ganondorf, ...          99         9.1   \n",
       "1  As most major publishers' development efforts ...          98         7.4   \n",
       "2  [Metacritic's 2008 PS3 Game of the Year; Also ...          98         7.7   \n",
       "3  This is a tale of souls and swords, transcendi...          98         8.4   \n",
       "4  [Metacritic's 2008 Xbox 360 Game of the Year; ...          98         7.9   \n",
       "\n",
       "   meta_score_ten  \n",
       "0             9.9  \n",
       "1             9.8  \n",
       "2             9.8  \n",
       "3             9.8  \n",
       "4             9.8  "
      ]
     },
     "execution_count": 26,
     "metadata": {},
     "output_type": "execute_result"
    }
   ],
   "source": [
    "mc_df.head()"
   ]
  },
  {
   "cell_type": "code",
   "execution_count": 24,
   "metadata": {},
   "outputs": [
    {
     "name": "stdout",
     "output_type": "stream",
     "text": [
      "<class 'pandas.core.frame.DataFrame'>\n",
      "RangeIndex: 18800 entries, 0 to 18799\n",
      "Data columns (total 6 columns):\n",
      " #   Column        Non-Null Count  Dtype \n",
      "---  ------        --------------  ----- \n",
      " 0   name          18800 non-null  object\n",
      " 1   platform      18800 non-null  object\n",
      " 2   release_date  18800 non-null  object\n",
      " 3   summary       18686 non-null  object\n",
      " 4   meta_score    18800 non-null  int64 \n",
      " 5   user_review   18800 non-null  object\n",
      "dtypes: int64(1), object(5)\n",
      "memory usage: 881.4+ KB\n"
     ]
    }
   ],
   "source": [
    "mc_df.info()"
   ]
  },
  {
   "cell_type": "code",
   "execution_count": 32,
   "metadata": {},
   "outputs": [],
   "source": [
    "# remove rows with user_review as tbd\n",
    "mc_df = mc_df[mc_df['user_review'] != 'tbd']"
   ]
  },
  {
   "cell_type": "code",
   "execution_count": 36,
   "metadata": {},
   "outputs": [
    {
     "data": {
      "text/plain": [
       "user_review\n",
       "7.7    727\n",
       "7.8    701\n",
       "7.5    682\n",
       "7.6    673\n",
       "7.3    632\n",
       "      ... \n",
       "0.6      2\n",
       "0.9      1\n",
       "0.7      1\n",
       "9.4      1\n",
       "0.2      1\n",
       "Name: count, Length: 93, dtype: int64"
      ]
     },
     "execution_count": 36,
     "metadata": {},
     "output_type": "execute_result"
    }
   ],
   "source": [
    "mc_df.value_counts('user_review')"
   ]
  },
  {
   "cell_type": "code",
   "execution_count": 35,
   "metadata": {},
   "outputs": [
    {
     "ename": "ValueError",
     "evalue": "invalid literal for int() with base 10: '9.1'",
     "output_type": "error",
     "traceback": [
      "\u001b[0;31m---------------------------------------------------------------------------\u001b[0m",
      "\u001b[0;31mValueError\u001b[0m                                Traceback (most recent call last)",
      "\u001b[1;32m/home/berry/Projects/gamelist-tools/update_gamelist.ipynb Cell 13\u001b[0m line \u001b[0;36m2\n\u001b[1;32m      <a href='vscode-notebook-cell:/home/berry/Projects/gamelist-tools/update_gamelist.ipynb#X50sZmlsZQ%3D%3D?line=0'>1</a>\u001b[0m \u001b[39m# user review to int64\u001b[39;00m\n\u001b[0;32m----> <a href='vscode-notebook-cell:/home/berry/Projects/gamelist-tools/update_gamelist.ipynb#X50sZmlsZQ%3D%3D?line=1'>2</a>\u001b[0m mc_df[\u001b[39m'\u001b[39m\u001b[39muser_review\u001b[39m\u001b[39m'\u001b[39m] \u001b[39m=\u001b[39m mc_df[\u001b[39m'\u001b[39;49m\u001b[39muser_review\u001b[39;49m\u001b[39m'\u001b[39;49m]\u001b[39m.\u001b[39;49mastype(\u001b[39m'\u001b[39;49m\u001b[39mint64\u001b[39;49m\u001b[39m'\u001b[39;49m)\n",
      "File \u001b[0;32m~/anaconda3/lib/python3.9/site-packages/pandas/core/generic.py:6532\u001b[0m, in \u001b[0;36mNDFrame.astype\u001b[0;34m(self, dtype, copy, errors)\u001b[0m\n\u001b[1;32m   6528\u001b[0m     results \u001b[39m=\u001b[39m [ser\u001b[39m.\u001b[39mastype(dtype, copy\u001b[39m=\u001b[39mcopy) \u001b[39mfor\u001b[39;00m _, ser \u001b[39min\u001b[39;00m \u001b[39mself\u001b[39m\u001b[39m.\u001b[39mitems()]\n\u001b[1;32m   6530\u001b[0m \u001b[39melse\u001b[39;00m:\n\u001b[1;32m   6531\u001b[0m     \u001b[39m# else, only a single dtype is given\u001b[39;00m\n\u001b[0;32m-> 6532\u001b[0m     new_data \u001b[39m=\u001b[39m \u001b[39mself\u001b[39;49m\u001b[39m.\u001b[39;49m_mgr\u001b[39m.\u001b[39;49mastype(dtype\u001b[39m=\u001b[39;49mdtype, copy\u001b[39m=\u001b[39;49mcopy, errors\u001b[39m=\u001b[39;49merrors)\n\u001b[1;32m   6533\u001b[0m     res \u001b[39m=\u001b[39m \u001b[39mself\u001b[39m\u001b[39m.\u001b[39m_constructor_from_mgr(new_data, axes\u001b[39m=\u001b[39mnew_data\u001b[39m.\u001b[39maxes)\n\u001b[1;32m   6534\u001b[0m     \u001b[39mreturn\u001b[39;00m res\u001b[39m.\u001b[39m__finalize__(\u001b[39mself\u001b[39m, method\u001b[39m=\u001b[39m\u001b[39m\"\u001b[39m\u001b[39mastype\u001b[39m\u001b[39m\"\u001b[39m)\n",
      "File \u001b[0;32m~/anaconda3/lib/python3.9/site-packages/pandas/core/internals/managers.py:414\u001b[0m, in \u001b[0;36mBaseBlockManager.astype\u001b[0;34m(self, dtype, copy, errors)\u001b[0m\n\u001b[1;32m    411\u001b[0m \u001b[39melif\u001b[39;00m using_copy_on_write():\n\u001b[1;32m    412\u001b[0m     copy \u001b[39m=\u001b[39m \u001b[39mFalse\u001b[39;00m\n\u001b[0;32m--> 414\u001b[0m \u001b[39mreturn\u001b[39;00m \u001b[39mself\u001b[39;49m\u001b[39m.\u001b[39;49mapply(\n\u001b[1;32m    415\u001b[0m     \u001b[39m\"\u001b[39;49m\u001b[39mastype\u001b[39;49m\u001b[39m\"\u001b[39;49m,\n\u001b[1;32m    416\u001b[0m     dtype\u001b[39m=\u001b[39;49mdtype,\n\u001b[1;32m    417\u001b[0m     copy\u001b[39m=\u001b[39;49mcopy,\n\u001b[1;32m    418\u001b[0m     errors\u001b[39m=\u001b[39;49merrors,\n\u001b[1;32m    419\u001b[0m     using_cow\u001b[39m=\u001b[39;49musing_copy_on_write(),\n\u001b[1;32m    420\u001b[0m )\n",
      "File \u001b[0;32m~/anaconda3/lib/python3.9/site-packages/pandas/core/internals/managers.py:354\u001b[0m, in \u001b[0;36mBaseBlockManager.apply\u001b[0;34m(self, f, align_keys, **kwargs)\u001b[0m\n\u001b[1;32m    352\u001b[0m         applied \u001b[39m=\u001b[39m b\u001b[39m.\u001b[39mapply(f, \u001b[39m*\u001b[39m\u001b[39m*\u001b[39mkwargs)\n\u001b[1;32m    353\u001b[0m     \u001b[39melse\u001b[39;00m:\n\u001b[0;32m--> 354\u001b[0m         applied \u001b[39m=\u001b[39m \u001b[39mgetattr\u001b[39;49m(b, f)(\u001b[39m*\u001b[39;49m\u001b[39m*\u001b[39;49mkwargs)\n\u001b[1;32m    355\u001b[0m     result_blocks \u001b[39m=\u001b[39m extend_blocks(applied, result_blocks)\n\u001b[1;32m    357\u001b[0m out \u001b[39m=\u001b[39m \u001b[39mtype\u001b[39m(\u001b[39mself\u001b[39m)\u001b[39m.\u001b[39mfrom_blocks(result_blocks, \u001b[39mself\u001b[39m\u001b[39m.\u001b[39maxes)\n",
      "File \u001b[0;32m~/anaconda3/lib/python3.9/site-packages/pandas/core/internals/blocks.py:616\u001b[0m, in \u001b[0;36mBlock.astype\u001b[0;34m(self, dtype, copy, errors, using_cow)\u001b[0m\n\u001b[1;32m    596\u001b[0m \u001b[39m\u001b[39m\u001b[39m\"\"\"\u001b[39;00m\n\u001b[1;32m    597\u001b[0m \u001b[39mCoerce to the new dtype.\u001b[39;00m\n\u001b[1;32m    598\u001b[0m \n\u001b[0;32m   (...)\u001b[0m\n\u001b[1;32m    612\u001b[0m \u001b[39mBlock\u001b[39;00m\n\u001b[1;32m    613\u001b[0m \u001b[39m\"\"\"\u001b[39;00m\n\u001b[1;32m    614\u001b[0m values \u001b[39m=\u001b[39m \u001b[39mself\u001b[39m\u001b[39m.\u001b[39mvalues\n\u001b[0;32m--> 616\u001b[0m new_values \u001b[39m=\u001b[39m astype_array_safe(values, dtype, copy\u001b[39m=\u001b[39;49mcopy, errors\u001b[39m=\u001b[39;49merrors)\n\u001b[1;32m    618\u001b[0m new_values \u001b[39m=\u001b[39m maybe_coerce_values(new_values)\n\u001b[1;32m    620\u001b[0m refs \u001b[39m=\u001b[39m \u001b[39mNone\u001b[39;00m\n",
      "File \u001b[0;32m~/anaconda3/lib/python3.9/site-packages/pandas/core/dtypes/astype.py:238\u001b[0m, in \u001b[0;36mastype_array_safe\u001b[0;34m(values, dtype, copy, errors)\u001b[0m\n\u001b[1;32m    235\u001b[0m     dtype \u001b[39m=\u001b[39m dtype\u001b[39m.\u001b[39mnumpy_dtype\n\u001b[1;32m    237\u001b[0m \u001b[39mtry\u001b[39;00m:\n\u001b[0;32m--> 238\u001b[0m     new_values \u001b[39m=\u001b[39m astype_array(values, dtype, copy\u001b[39m=\u001b[39;49mcopy)\n\u001b[1;32m    239\u001b[0m \u001b[39mexcept\u001b[39;00m (\u001b[39mValueError\u001b[39;00m, \u001b[39mTypeError\u001b[39;00m):\n\u001b[1;32m    240\u001b[0m     \u001b[39m# e.g. _astype_nansafe can fail on object-dtype of strings\u001b[39;00m\n\u001b[1;32m    241\u001b[0m     \u001b[39m#  trying to convert to float\u001b[39;00m\n\u001b[1;32m    242\u001b[0m     \u001b[39mif\u001b[39;00m errors \u001b[39m==\u001b[39m \u001b[39m\"\u001b[39m\u001b[39mignore\u001b[39m\u001b[39m\"\u001b[39m:\n",
      "File \u001b[0;32m~/anaconda3/lib/python3.9/site-packages/pandas/core/dtypes/astype.py:183\u001b[0m, in \u001b[0;36mastype_array\u001b[0;34m(values, dtype, copy)\u001b[0m\n\u001b[1;32m    180\u001b[0m     values \u001b[39m=\u001b[39m values\u001b[39m.\u001b[39mastype(dtype, copy\u001b[39m=\u001b[39mcopy)\n\u001b[1;32m    182\u001b[0m \u001b[39melse\u001b[39;00m:\n\u001b[0;32m--> 183\u001b[0m     values \u001b[39m=\u001b[39m _astype_nansafe(values, dtype, copy\u001b[39m=\u001b[39;49mcopy)\n\u001b[1;32m    185\u001b[0m \u001b[39m# in pandas we don't store numpy str dtypes, so convert to object\u001b[39;00m\n\u001b[1;32m    186\u001b[0m \u001b[39mif\u001b[39;00m \u001b[39misinstance\u001b[39m(dtype, np\u001b[39m.\u001b[39mdtype) \u001b[39mand\u001b[39;00m \u001b[39missubclass\u001b[39m(values\u001b[39m.\u001b[39mdtype\u001b[39m.\u001b[39mtype, \u001b[39mstr\u001b[39m):\n",
      "File \u001b[0;32m~/anaconda3/lib/python3.9/site-packages/pandas/core/dtypes/astype.py:134\u001b[0m, in \u001b[0;36m_astype_nansafe\u001b[0;34m(arr, dtype, copy, skipna)\u001b[0m\n\u001b[1;32m    130\u001b[0m     \u001b[39mraise\u001b[39;00m \u001b[39mValueError\u001b[39;00m(msg)\n\u001b[1;32m    132\u001b[0m \u001b[39mif\u001b[39;00m copy \u001b[39mor\u001b[39;00m arr\u001b[39m.\u001b[39mdtype \u001b[39m==\u001b[39m \u001b[39mobject\u001b[39m \u001b[39mor\u001b[39;00m dtype \u001b[39m==\u001b[39m \u001b[39mobject\u001b[39m:\n\u001b[1;32m    133\u001b[0m     \u001b[39m# Explicit copy, or required since NumPy can't view from / to object.\u001b[39;00m\n\u001b[0;32m--> 134\u001b[0m     \u001b[39mreturn\u001b[39;00m arr\u001b[39m.\u001b[39;49mastype(dtype, copy\u001b[39m=\u001b[39;49m\u001b[39mTrue\u001b[39;49;00m)\n\u001b[1;32m    136\u001b[0m \u001b[39mreturn\u001b[39;00m arr\u001b[39m.\u001b[39mastype(dtype, copy\u001b[39m=\u001b[39mcopy)\n",
      "\u001b[0;31mValueError\u001b[0m: invalid literal for int() with base 10: '9.1'"
     ]
    }
   ],
   "source": [
    "# user review to int64\n",
    "mc_df['user_review'] = mc_df['user_review'].astype('int64')"
   ]
  },
  {
   "cell_type": "code",
   "execution_count": 25,
   "metadata": {},
   "outputs": [],
   "source": [
    "mc_df['meta_score_ten'] = mc_df['meta_score'] / 10"
   ]
  },
  {
   "cell_type": "code",
   "execution_count": 28,
   "metadata": {},
   "outputs": [
    {
     "ename": "TypeError",
     "evalue": "can only concatenate str (not \"float\") to str",
     "output_type": "error",
     "traceback": [
      "\u001b[0;31m---------------------------------------------------------------------------\u001b[0m",
      "\u001b[0;31mTypeError\u001b[0m                                 Traceback (most recent call last)",
      "File \u001b[0;32m~/anaconda3/lib/python3.9/site-packages/pandas/core/ops/array_ops.py:220\u001b[0m, in \u001b[0;36m_na_arithmetic_op\u001b[0;34m(left, right, op, is_cmp)\u001b[0m\n\u001b[1;32m    219\u001b[0m \u001b[39mtry\u001b[39;00m:\n\u001b[0;32m--> 220\u001b[0m     result \u001b[39m=\u001b[39m func(left, right)\n\u001b[1;32m    221\u001b[0m \u001b[39mexcept\u001b[39;00m \u001b[39mTypeError\u001b[39;00m:\n",
      "File \u001b[0;32m~/anaconda3/lib/python3.9/site-packages/pandas/core/computation/expressions.py:242\u001b[0m, in \u001b[0;36mevaluate\u001b[0;34m(op, a, b, use_numexpr)\u001b[0m\n\u001b[1;32m    240\u001b[0m     \u001b[39mif\u001b[39;00m use_numexpr:\n\u001b[1;32m    241\u001b[0m         \u001b[39m# error: \"None\" not callable\u001b[39;00m\n\u001b[0;32m--> 242\u001b[0m         \u001b[39mreturn\u001b[39;00m _evaluate(op, op_str, a, b)  \u001b[39m# type: ignore[misc]\u001b[39;00m\n\u001b[1;32m    243\u001b[0m \u001b[39mreturn\u001b[39;00m _evaluate_standard(op, op_str, a, b)\n",
      "File \u001b[0;32m~/anaconda3/lib/python3.9/site-packages/pandas/core/computation/expressions.py:131\u001b[0m, in \u001b[0;36m_evaluate_numexpr\u001b[0;34m(op, op_str, a, b)\u001b[0m\n\u001b[1;32m    130\u001b[0m \u001b[39mif\u001b[39;00m result \u001b[39mis\u001b[39;00m \u001b[39mNone\u001b[39;00m:\n\u001b[0;32m--> 131\u001b[0m     result \u001b[39m=\u001b[39m _evaluate_standard(op, op_str, a, b)\n\u001b[1;32m    133\u001b[0m \u001b[39mreturn\u001b[39;00m result\n",
      "File \u001b[0;32m~/anaconda3/lib/python3.9/site-packages/pandas/core/computation/expressions.py:73\u001b[0m, in \u001b[0;36m_evaluate_standard\u001b[0;34m(op, op_str, a, b)\u001b[0m\n\u001b[1;32m     72\u001b[0m     _store_test_result(\u001b[39mFalse\u001b[39;00m)\n\u001b[0;32m---> 73\u001b[0m \u001b[39mreturn\u001b[39;00m op(a, b)\n",
      "\u001b[0;31mTypeError\u001b[0m: can only concatenate str (not \"float\") to str",
      "\nDuring handling of the above exception, another exception occurred:\n",
      "\u001b[0;31mTypeError\u001b[0m                                 Traceback (most recent call last)",
      "\u001b[1;32m/home/berry/Projects/gamelist-tools/update_gamelist.ipynb Cell 13\u001b[0m line \u001b[0;36m2\n\u001b[1;32m      <a href='vscode-notebook-cell:/home/berry/Projects/gamelist-tools/update_gamelist.ipynb#X44sZmlsZQ%3D%3D?line=0'>1</a>\u001b[0m \u001b[39m# create a new column with the average of the user and critic scores\u001b[39;00m\n\u001b[0;32m----> <a href='vscode-notebook-cell:/home/berry/Projects/gamelist-tools/update_gamelist.ipynb#X44sZmlsZQ%3D%3D?line=1'>2</a>\u001b[0m mc_df[\u001b[39m'\u001b[39m\u001b[39mavg_score\u001b[39m\u001b[39m'\u001b[39m] \u001b[39m=\u001b[39m (mc_df[\u001b[39m'\u001b[39;49m\u001b[39muser_review\u001b[39;49m\u001b[39m'\u001b[39;49m] \u001b[39m+\u001b[39;49m mc_df[\u001b[39m'\u001b[39;49m\u001b[39mmeta_score_ten\u001b[39;49m\u001b[39m'\u001b[39;49m]) \u001b[39m/\u001b[39m \u001b[39m2\u001b[39m\n",
      "File \u001b[0;32m~/anaconda3/lib/python3.9/site-packages/pandas/core/ops/common.py:76\u001b[0m, in \u001b[0;36m_unpack_zerodim_and_defer.<locals>.new_method\u001b[0;34m(self, other)\u001b[0m\n\u001b[1;32m     72\u001b[0m             \u001b[39mreturn\u001b[39;00m \u001b[39mNotImplemented\u001b[39m\n\u001b[1;32m     74\u001b[0m other \u001b[39m=\u001b[39m item_from_zerodim(other)\n\u001b[0;32m---> 76\u001b[0m \u001b[39mreturn\u001b[39;00m method(\u001b[39mself\u001b[39;49m, other)\n",
      "File \u001b[0;32m~/anaconda3/lib/python3.9/site-packages/pandas/core/arraylike.py:186\u001b[0m, in \u001b[0;36mOpsMixin.__add__\u001b[0;34m(self, other)\u001b[0m\n\u001b[1;32m     98\u001b[0m \u001b[39m@unpack_zerodim_and_defer\u001b[39m(\u001b[39m\"\u001b[39m\u001b[39m__add__\u001b[39m\u001b[39m\"\u001b[39m)\n\u001b[1;32m     99\u001b[0m \u001b[39mdef\u001b[39;00m \u001b[39m__add__\u001b[39m(\u001b[39mself\u001b[39m, other):\n\u001b[1;32m    100\u001b[0m \u001b[39m    \u001b[39m\u001b[39m\"\"\"\u001b[39;00m\n\u001b[1;32m    101\u001b[0m \u001b[39m    Get Addition of DataFrame and other, column-wise.\u001b[39;00m\n\u001b[1;32m    102\u001b[0m \n\u001b[0;32m   (...)\u001b[0m\n\u001b[1;32m    184\u001b[0m \u001b[39m    moose     3.0     NaN\u001b[39;00m\n\u001b[1;32m    185\u001b[0m \u001b[39m    \"\"\"\u001b[39;00m\n\u001b[0;32m--> 186\u001b[0m     \u001b[39mreturn\u001b[39;00m \u001b[39mself\u001b[39;49m\u001b[39m.\u001b[39;49m_arith_method(other, operator\u001b[39m.\u001b[39;49madd)\n",
      "File \u001b[0;32m~/anaconda3/lib/python3.9/site-packages/pandas/core/series.py:5820\u001b[0m, in \u001b[0;36mSeries._arith_method\u001b[0;34m(self, other, op)\u001b[0m\n\u001b[1;32m   5818\u001b[0m \u001b[39mdef\u001b[39;00m \u001b[39m_arith_method\u001b[39m(\u001b[39mself\u001b[39m, other, op):\n\u001b[1;32m   5819\u001b[0m     \u001b[39mself\u001b[39m, other \u001b[39m=\u001b[39m \u001b[39mself\u001b[39m\u001b[39m.\u001b[39m_align_for_op(other)\n\u001b[0;32m-> 5820\u001b[0m     \u001b[39mreturn\u001b[39;00m base\u001b[39m.\u001b[39;49mIndexOpsMixin\u001b[39m.\u001b[39;49m_arith_method(\u001b[39mself\u001b[39;49m, other, op)\n",
      "File \u001b[0;32m~/anaconda3/lib/python3.9/site-packages/pandas/core/base.py:1381\u001b[0m, in \u001b[0;36mIndexOpsMixin._arith_method\u001b[0;34m(self, other, op)\u001b[0m\n\u001b[1;32m   1378\u001b[0m     rvalues \u001b[39m=\u001b[39m np\u001b[39m.\u001b[39marange(rvalues\u001b[39m.\u001b[39mstart, rvalues\u001b[39m.\u001b[39mstop, rvalues\u001b[39m.\u001b[39mstep)\n\u001b[1;32m   1380\u001b[0m \u001b[39mwith\u001b[39;00m np\u001b[39m.\u001b[39merrstate(\u001b[39mall\u001b[39m\u001b[39m=\u001b[39m\u001b[39m\"\u001b[39m\u001b[39mignore\u001b[39m\u001b[39m\"\u001b[39m):\n\u001b[0;32m-> 1381\u001b[0m     result \u001b[39m=\u001b[39m ops\u001b[39m.\u001b[39;49marithmetic_op(lvalues, rvalues, op)\n\u001b[1;32m   1383\u001b[0m \u001b[39mreturn\u001b[39;00m \u001b[39mself\u001b[39m\u001b[39m.\u001b[39m_construct_result(result, name\u001b[39m=\u001b[39mres_name)\n",
      "File \u001b[0;32m~/anaconda3/lib/python3.9/site-packages/pandas/core/ops/array_ops.py:285\u001b[0m, in \u001b[0;36marithmetic_op\u001b[0;34m(left, right, op)\u001b[0m\n\u001b[1;32m    281\u001b[0m     _bool_arith_check(op, left, right)  \u001b[39m# type: ignore[arg-type]\u001b[39;00m\n\u001b[1;32m    283\u001b[0m     \u001b[39m# error: Argument 1 to \"_na_arithmetic_op\" has incompatible type\u001b[39;00m\n\u001b[1;32m    284\u001b[0m     \u001b[39m# \"Union[ExtensionArray, ndarray[Any, Any]]\"; expected \"ndarray[Any, Any]\"\u001b[39;00m\n\u001b[0;32m--> 285\u001b[0m     res_values \u001b[39m=\u001b[39m _na_arithmetic_op(left, right, op)  \u001b[39m# type: ignore[arg-type]\u001b[39;00m\n\u001b[1;32m    287\u001b[0m \u001b[39mreturn\u001b[39;00m res_values\n",
      "File \u001b[0;32m~/anaconda3/lib/python3.9/site-packages/pandas/core/ops/array_ops.py:229\u001b[0m, in \u001b[0;36m_na_arithmetic_op\u001b[0;34m(left, right, op, is_cmp)\u001b[0m\n\u001b[1;32m    221\u001b[0m \u001b[39mexcept\u001b[39;00m \u001b[39mTypeError\u001b[39;00m:\n\u001b[1;32m    222\u001b[0m     \u001b[39mif\u001b[39;00m \u001b[39mnot\u001b[39;00m is_cmp \u001b[39mand\u001b[39;00m (\n\u001b[1;32m    223\u001b[0m         left\u001b[39m.\u001b[39mdtype \u001b[39m==\u001b[39m \u001b[39mobject\u001b[39m \u001b[39mor\u001b[39;00m \u001b[39mgetattr\u001b[39m(right, \u001b[39m\"\u001b[39m\u001b[39mdtype\u001b[39m\u001b[39m\"\u001b[39m, \u001b[39mNone\u001b[39;00m) \u001b[39m==\u001b[39m \u001b[39mobject\u001b[39m\n\u001b[1;32m    224\u001b[0m     ):\n\u001b[0;32m   (...)\u001b[0m\n\u001b[1;32m    227\u001b[0m         \u001b[39m# Don't do this for comparisons, as that will handle complex numbers\u001b[39;00m\n\u001b[1;32m    228\u001b[0m         \u001b[39m#  incorrectly, see GH#32047\u001b[39;00m\n\u001b[0;32m--> 229\u001b[0m         result \u001b[39m=\u001b[39m _masked_arith_op(left, right, op)\n\u001b[1;32m    230\u001b[0m     \u001b[39melse\u001b[39;00m:\n\u001b[1;32m    231\u001b[0m         \u001b[39mraise\u001b[39;00m\n",
      "File \u001b[0;32m~/anaconda3/lib/python3.9/site-packages/pandas/core/ops/array_ops.py:165\u001b[0m, in \u001b[0;36m_masked_arith_op\u001b[0;34m(x, y, op)\u001b[0m\n\u001b[1;32m    163\u001b[0m     \u001b[39m# See GH#5284, GH#5035, GH#19448 for historical reference\u001b[39;00m\n\u001b[1;32m    164\u001b[0m     \u001b[39mif\u001b[39;00m mask\u001b[39m.\u001b[39many():\n\u001b[0;32m--> 165\u001b[0m         result[mask] \u001b[39m=\u001b[39m op(xrav[mask], yrav[mask])\n\u001b[1;32m    167\u001b[0m \u001b[39melse\u001b[39;00m:\n\u001b[1;32m    168\u001b[0m     \u001b[39mif\u001b[39;00m \u001b[39mnot\u001b[39;00m is_scalar(y):\n",
      "\u001b[0;31mTypeError\u001b[0m: can only concatenate str (not \"float\") to str"
     ]
    }
   ],
   "source": [
    "# create a new column with the average of the user and critic scores\n",
    "mc_df['avg_score'] = (int(mc_df['user_review'] + mc_df['meta_score_ten']) / 2"
   ]
  },
  {
   "cell_type": "code",
   "execution_count": 9,
   "metadata": {},
   "outputs": [],
   "source": [
    "# scale CommunityRating to between 0 and 1\n",
    "from sklearn.preprocessing import MinMaxScaler\n",
    "scaler = MinMaxScaler()\n",
    "Game['CommunityRating'] = scaler.fit_transform(Game['CommunityRating'].values.reshape(-1,1))\n"
   ]
  },
  {
   "cell_type": "code",
   "execution_count": 10,
   "metadata": {},
   "outputs": [
    {
     "data": {
      "text/plain": [
       "count    165920.000000\n",
       "mean          0.670623\n",
       "std           0.208643\n",
       "min           0.000000\n",
       "25%           0.555556\n",
       "50%           0.688889\n",
       "75%           0.811966\n",
       "max           1.000000\n",
       "Name: CommunityRating, dtype: float64"
      ]
     },
     "execution_count": 10,
     "metadata": {},
     "output_type": "execute_result"
    }
   ],
   "source": [
    "Game['CommunityRating'].describe()"
   ]
  },
  {
   "cell_type": "code",
   "execution_count": 11,
   "metadata": {},
   "outputs": [],
   "source": [
    "column_to_element = {\n",
    "    'Overview': 'desc',\n",
    "    'Developer': 'developer',\n",
    "    'Genres': 'genre',\n",
    "    'Name': 'name',\n",
    "    'Publisher': 'publisher',\n",
    "    'CommunityRating': 'rating',\n",
    "    'ReleaseYear': 'releasedate',\n",
    "    'MaxPlayers': 'players'\n",
    "}"
   ]
  },
  {
   "cell_type": "code",
   "execution_count": 12,
   "metadata": {},
   "outputs": [],
   "source": [
    "def update_or_create_element(parent_elem, element_name, text):\n",
    "    elem = parent_elem.find(element_name)\n",
    "    if elem is not None:\n",
    "        elem.text = text\n",
    "    else:\n",
    "        new_elem = ET.Element(element_name)\n",
    "        new_elem.text = text\n",
    "        parent_elem.append(new_elem)"
   ]
  },
  {
   "cell_type": "code",
   "execution_count": 34,
   "metadata": {},
   "outputs": [
    {
     "name": "stdout",
     "output_type": "stream",
     "text": [
      "Creating genesis/gamelist_updated.xml\n",
      "Creating mame/gamelist_updated.xml\n",
      "Creating fbneo/gamelist_updated.xml\n",
      "Creating psx/gamelist_updated.xml\n",
      "Creating dreamcast/gamelist_updated.xml\n",
      "Creating gc/gamelist_updated.xml\n",
      "Creating sfc/gamelist_updated.xml\n",
      "Creating pc/gamelist_updated.xml\n",
      "Creating tg16/gamelist_updated.xml\n",
      "Creating saturn/gamelist_updated.xml\n",
      "Creating nes/gamelist_updated.xml\n",
      "Creating snes/gamelist_updated.xml\n",
      "Creating scummvm/gamelist_updated.xml\n",
      "Creating gba/gamelist_updated.xml\n",
      "Creating msx/gamelist_updated.xml\n",
      "Creating segacd/gamelist_updated.xml\n",
      "Creating c64/gamelist_updated.xml\n",
      "Creating zxspectrum/gamelist_updated.xml\n",
      "Creating psp/gamelist_updated.xml\n",
      "Creating n64/gamelist_updated.xml\n",
      "Creating pcengine/gamelist_updated.xml\n",
      "Creating fba/gamelist_updated.xml\n",
      "Creating mastersystem/gamelist_updated.xml\n",
      "Creating atari2600/gamelist_updated.xml\n",
      "Creating ngpc/gamelist_updated.xml\n",
      "Creating doom/gamelist_updated.xml\n",
      "Creating gamegear/gamelist_updated.xml\n",
      "Creating ngp/gamelist_updated.xml\n",
      "Creating wii/gamelist_updated.xml\n",
      "Creating neogeo/gamelist_updated.xml\n",
      "Creating gbc/gamelist_updated.xml\n",
      "Creating megadrive/gamelist_updated.xml\n",
      "Creating amiga/gamelist_updated.xml\n",
      "Creating gb/gamelist_updated.xml\n",
      "Creating famicom/gamelist_updated.xml\n"
     ]
    }
   ],
   "source": [
    "# Iterate through each gamelist.xml file in lists/[platform folder]\n",
    "new_list_name = 'gamelist_updated.xml'\n",
    "base_path = 'lists'\n",
    "\n",
    "for platform_path in os.listdir(base_path):\n",
    "    if os.path.isdir(os.path.join(base_path, platform_path)):\n",
    "        xml_path = os.path.join(base_path, platform_path, 'gamelist.xml')\n",
    "        updated_xml_path = os.path.join(platform_path, new_list_name)\n",
    "        if os.path.exists(xml_path) # and not os.path.exists(updated_xml_path):\n",
    "            \n",
    "            # identify the platform using the directory name\n",
    "            platform_abbreviated = os.path.basename(platform_path)\n",
    "            print(f\"Creating {platform_abbreviated}/{new_list_name}\")\n",
    "\n",
    "            full_platform_name = platform_mappings.get(platform_abbreviated, platform_abbreviated)\n",
    "\n",
    "            # subset dataframe to only include games for the current platform\n",
    "            platform_subset = Game[Game['Platform'] == full_platform_name]\n",
    "\n",
    "            # parse the xml file\n",
    "            tree = ET.parse(xml_path)\n",
    "            xml_root = tree.getroot()\n",
    "\n",
    "            for game_elem in xml_root.findall('game'):\n",
    "                title_xml = game_elem.find('name').text\n",
    "                best_match = None\n",
    "                best_match_score = 0\n",
    "\n",
    "                # find best fuzzy match\n",
    "                for _, row in platform_subset.iterrows():\n",
    "                    title_df = row['Name']\n",
    "                    score = fuzz.ratio(title_xml, title_df)\n",
    "                    if score > best_match_score:\n",
    "                        best_match = row\n",
    "                        best_match_score = score\n",
    "                \n",
    "                # update the xml file with the best match\n",
    "                if best_match is not None:\n",
    "                    for column, element in column_to_element.items():\n",
    "                        column_value = best_match[column]\n",
    "                        if not pd.isna(column_value):\n",
    "                            update_or_create_element(game_elem, element, str(column_value))\n",
    "        \n",
    "            # write the updated xml file\n",
    "            updated_xml_path = os.path.join(base_path, platform_path, new_list_name)\n",
    "            tree.write(updated_xml_path, encoding='utf-8')\n"
   ]
  },
  {
   "cell_type": "code",
   "execution_count": 35,
   "metadata": {},
   "outputs": [],
   "source": [
    "import pickle\n",
    "with open('game_df.pkl' , 'wb') as f:\n",
    "    pickle.dump(Game, f)"
   ]
  },
  {
   "cell_type": "code",
   "execution_count": null,
   "metadata": {},
   "outputs": [],
   "source": []
  },
  {
   "cell_type": "code",
   "execution_count": null,
   "metadata": {},
   "outputs": [],
   "source": []
  },
  {
   "cell_type": "code",
   "execution_count": null,
   "metadata": {},
   "outputs": [],
   "source": []
  },
  {
   "cell_type": "code",
   "execution_count": 8,
   "metadata": {},
   "outputs": [],
   "source": [
    "# import gamelist.xml\n",
    "with open('gamelist.xml', 'r') as f:\n",
    "    soup = BeautifulSoup(f, 'xml')"
   ]
  },
  {
   "cell_type": "code",
   "execution_count": 9,
   "metadata": {},
   "outputs": [],
   "source": [
    "xml_titles = soup.find_all('name')\n"
   ]
  },
  {
   "cell_type": "code",
   "execution_count": 10,
   "metadata": {},
   "outputs": [],
   "source": [
    "# create a list of lowercase titles from the <game><name> tags\n",
    "xml_titles_list = []\n",
    "for title in xml_titles:\n",
    "    xml_titles_list.append(title.text.lower())"
   ]
  },
  {
   "cell_type": "code",
   "execution_count": 11,
   "metadata": {},
   "outputs": [
    {
     "data": {
      "text/plain": [
       "['118-in-1 [p1][!]',\n",
       " '10-yard fight',\n",
       " '10-yard fight',\n",
       " '1942',\n",
       " '1943 : the battle of midway']"
      ]
     },
     "execution_count": 11,
     "metadata": {},
     "output_type": "execute_result"
    }
   ],
   "source": [
    "xml_titles_list[:5]"
   ]
  },
  {
   "cell_type": "code",
   "execution_count": 12,
   "metadata": {},
   "outputs": [],
   "source": []
  },
  {
   "cell_type": "code",
   "execution_count": 13,
   "metadata": {},
   "outputs": [
    {
     "ename": "NameError",
     "evalue": "name 'platform_df' is not defined",
     "output_type": "error",
     "traceback": [
      "\u001b[0;31m---------------------------------------------------------------------------\u001b[0m",
      "\u001b[0;31mNameError\u001b[0m                                 Traceback (most recent call last)",
      "\u001b[1;32m/home/berry/Projects/video-game-recommender-v2/update_gamelist.ipynb Cell 12\u001b[0m line \u001b[0;36m1\n\u001b[0;32m----> <a href='vscode-notebook-cell:/home/berry/Projects/video-game-recommender-v2/update_gamelist.ipynb#X14sZmlsZQ%3D%3D?line=0'>1</a>\u001b[0m platform_df\u001b[39m.\u001b[39mhead()\n",
      "\u001b[0;31mNameError\u001b[0m: name 'platform_df' is not defined"
     ]
    }
   ],
   "source": [
    "platform_df.head()"
   ]
  },
  {
   "cell_type": "code",
   "execution_count": 22,
   "metadata": {},
   "outputs": [
    {
     "name": "stderr",
     "output_type": "stream",
     "text": [
      "/tmp/ipykernel_7881/843215976.py:5: SettingWithCopyWarning: \n",
      "A value is trying to be set on a copy of a slice from a DataFrame.\n",
      "Try using .loc[row_indexer,col_indexer] = value instead\n",
      "\n",
      "See the caveats in the documentation: https://pandas.pydata.org/pandas-docs/stable/user_guide/indexing.html#returning-a-view-versus-a-copy\n",
      "  platform_df['Name'] = platform_df['Name'].str.lower()\n"
     ]
    }
   ],
   "source": [
    "platform_name = 'Nintendo Entertainment System'\n",
    "\n",
    "# create a list of titles from the Game dataframe\n",
    "platform_df = Game[Game['Platform'] == platform_name]\n",
    "platform_df['Name'] = platform_df['Name'].str.lower()\n"
   ]
  },
  {
   "cell_type": "code",
   "execution_count": 23,
   "metadata": {},
   "outputs": [
    {
     "data": {
      "text/html": [
       "<div>\n",
       "<style scoped>\n",
       "    .dataframe tbody tr th:only-of-type {\n",
       "        vertical-align: middle;\n",
       "    }\n",
       "\n",
       "    .dataframe tbody tr th {\n",
       "        vertical-align: top;\n",
       "    }\n",
       "\n",
       "    .dataframe thead th {\n",
       "        text-align: right;\n",
       "    }\n",
       "</style>\n",
       "<table border=\"1\" class=\"dataframe\">\n",
       "  <thead>\n",
       "    <tr style=\"text-align: right;\">\n",
       "      <th></th>\n",
       "      <th>Name</th>\n",
       "      <th>ReleaseYear</th>\n",
       "      <th>Overview</th>\n",
       "      <th>MaxPlayers</th>\n",
       "      <th>ReleaseType</th>\n",
       "      <th>Cooperative</th>\n",
       "      <th>VideoURL</th>\n",
       "      <th>CommunityRating</th>\n",
       "      <th>Platform</th>\n",
       "      <th>ESRB</th>\n",
       "      <th>...</th>\n",
       "      <th>AlternateName_China</th>\n",
       "      <th>AlternateName_Europe</th>\n",
       "      <th>AlternateName_France</th>\n",
       "      <th>AlternateName_Germany</th>\n",
       "      <th>AlternateName_Japan</th>\n",
       "      <th>AlternateName_Korea</th>\n",
       "      <th>AlternateName_NorthAmerica</th>\n",
       "      <th>AlternateName_Spain</th>\n",
       "      <th>AlternateName_UnitedStates</th>\n",
       "      <th>AlternateName_World</th>\n",
       "    </tr>\n",
       "  </thead>\n",
       "  <tbody>\n",
       "    <tr>\n",
       "      <th>95167</th>\n",
       "      <td>0-to-x</td>\n",
       "      <td>2015.0</td>\n",
       "      <td>Based on a hit internet phenomenon, 0-to-X is ...</td>\n",
       "      <td>1.0</td>\n",
       "      <td>Homebrew</td>\n",
       "      <td>False</td>\n",
       "      <td>https://www.youtube.com/watch?v=uLLVUH65Bqk</td>\n",
       "      <td>2.678571</td>\n",
       "      <td>Nintendo Entertainment System</td>\n",
       "      <td>Not Rated</td>\n",
       "      <td>...</td>\n",
       "      <td>NaN</td>\n",
       "      <td>NaN</td>\n",
       "      <td>NaN</td>\n",
       "      <td>NaN</td>\n",
       "      <td>NaN</td>\n",
       "      <td>NaN</td>\n",
       "      <td>NaN</td>\n",
       "      <td>NaN</td>\n",
       "      <td>NaN</td>\n",
       "      <td>NaN</td>\n",
       "    </tr>\n",
       "    <tr>\n",
       "      <th>95168</th>\n",
       "      <td>1007 bolts</td>\n",
       "      <td>NaN</td>\n",
       "      <td>So you've pissed off the Gods... Now what?\\n\\n...</td>\n",
       "      <td>1.0</td>\n",
       "      <td>Homebrew</td>\n",
       "      <td>False</td>\n",
       "      <td>NaN</td>\n",
       "      <td>3.375000</td>\n",
       "      <td>Nintendo Entertainment System</td>\n",
       "      <td>Not Rated</td>\n",
       "      <td>...</td>\n",
       "      <td>NaN</td>\n",
       "      <td>NaN</td>\n",
       "      <td>NaN</td>\n",
       "      <td>NaN</td>\n",
       "      <td>NaN</td>\n",
       "      <td>NaN</td>\n",
       "      <td>NaN</td>\n",
       "      <td>NaN</td>\n",
       "      <td>NaN</td>\n",
       "      <td>NaN</td>\n",
       "    </tr>\n",
       "    <tr>\n",
       "      <th>95169</th>\n",
       "      <td>100-in-1 contra 16 function</td>\n",
       "      <td>1991.0</td>\n",
       "      <td>100-in-1 Contra 16 Function is a Famicom multi...</td>\n",
       "      <td>2.0</td>\n",
       "      <td>Unlicensed</td>\n",
       "      <td>True</td>\n",
       "      <td>NaN</td>\n",
       "      <td>3.100000</td>\n",
       "      <td>Nintendo Entertainment System</td>\n",
       "      <td>Not Rated</td>\n",
       "      <td>...</td>\n",
       "      <td>NaN</td>\n",
       "      <td>NaN</td>\n",
       "      <td>NaN</td>\n",
       "      <td>NaN</td>\n",
       "      <td>NaN</td>\n",
       "      <td>NaN</td>\n",
       "      <td>NaN</td>\n",
       "      <td>NaN</td>\n",
       "      <td>NaN</td>\n",
       "      <td>NaN</td>\n",
       "    </tr>\n",
       "    <tr>\n",
       "      <th>95170</th>\n",
       "      <td>10-yard fight</td>\n",
       "      <td>NaN</td>\n",
       "      <td>The main idea of this game is that players tak...</td>\n",
       "      <td>2.0</td>\n",
       "      <td>Released</td>\n",
       "      <td>False</td>\n",
       "      <td>https://www.youtube.com/watch?v=5LUyTv9j1TM</td>\n",
       "      <td>3.082090</td>\n",
       "      <td>Nintendo Entertainment System</td>\n",
       "      <td>Not Rated</td>\n",
       "      <td>...</td>\n",
       "      <td>NaN</td>\n",
       "      <td>NaN</td>\n",
       "      <td>NaN</td>\n",
       "      <td>NaN</td>\n",
       "      <td>NaN</td>\n",
       "      <td>NaN</td>\n",
       "      <td>NaN</td>\n",
       "      <td>NaN</td>\n",
       "      <td>NaN</td>\n",
       "      <td>NaN</td>\n",
       "    </tr>\n",
       "    <tr>\n",
       "      <th>95171</th>\n",
       "      <td>110-in-1</td>\n",
       "      <td>1990.0</td>\n",
       "      <td>NaN</td>\n",
       "      <td>NaN</td>\n",
       "      <td>Unlicensed</td>\n",
       "      <td>False</td>\n",
       "      <td>NaN</td>\n",
       "      <td>3.555556</td>\n",
       "      <td>Nintendo Entertainment System</td>\n",
       "      <td>NaN</td>\n",
       "      <td>...</td>\n",
       "      <td>NaN</td>\n",
       "      <td>NaN</td>\n",
       "      <td>NaN</td>\n",
       "      <td>NaN</td>\n",
       "      <td>NaN</td>\n",
       "      <td>NaN</td>\n",
       "      <td>NaN</td>\n",
       "      <td>NaN</td>\n",
       "      <td>NaN</td>\n",
       "      <td>NaN</td>\n",
       "    </tr>\n",
       "  </tbody>\n",
       "</table>\n",
       "<p>5 rows × 29 columns</p>\n",
       "</div>"
      ],
      "text/plain": [
       "                              Name  ReleaseYear  \\\n",
       "95167                       0-to-x       2015.0   \n",
       "95168                   1007 bolts          NaN   \n",
       "95169  100-in-1 contra 16 function       1991.0   \n",
       "95170                10-yard fight          NaN   \n",
       "95171                     110-in-1       1990.0   \n",
       "\n",
       "                                                Overview  MaxPlayers  \\\n",
       "95167  Based on a hit internet phenomenon, 0-to-X is ...         1.0   \n",
       "95168  So you've pissed off the Gods... Now what?\\n\\n...         1.0   \n",
       "95169  100-in-1 Contra 16 Function is a Famicom multi...         2.0   \n",
       "95170  The main idea of this game is that players tak...         2.0   \n",
       "95171                                                NaN         NaN   \n",
       "\n",
       "      ReleaseType  Cooperative                                     VideoURL  \\\n",
       "95167    Homebrew        False  https://www.youtube.com/watch?v=uLLVUH65Bqk   \n",
       "95168    Homebrew        False                                          NaN   \n",
       "95169  Unlicensed         True                                          NaN   \n",
       "95170    Released        False  https://www.youtube.com/watch?v=5LUyTv9j1TM   \n",
       "95171  Unlicensed        False                                          NaN   \n",
       "\n",
       "       CommunityRating                       Platform       ESRB  ...  \\\n",
       "95167         2.678571  Nintendo Entertainment System  Not Rated  ...   \n",
       "95168         3.375000  Nintendo Entertainment System  Not Rated  ...   \n",
       "95169         3.100000  Nintendo Entertainment System  Not Rated  ...   \n",
       "95170         3.082090  Nintendo Entertainment System  Not Rated  ...   \n",
       "95171         3.555556  Nintendo Entertainment System        NaN  ...   \n",
       "\n",
       "       AlternateName_China AlternateName_Europe AlternateName_France  \\\n",
       "95167                  NaN                  NaN                  NaN   \n",
       "95168                  NaN                  NaN                  NaN   \n",
       "95169                  NaN                  NaN                  NaN   \n",
       "95170                  NaN                  NaN                  NaN   \n",
       "95171                  NaN                  NaN                  NaN   \n",
       "\n",
       "      AlternateName_Germany  AlternateName_Japan  AlternateName_Korea  \\\n",
       "95167                   NaN                  NaN                  NaN   \n",
       "95168                   NaN                  NaN                  NaN   \n",
       "95169                   NaN                  NaN                  NaN   \n",
       "95170                   NaN                  NaN                  NaN   \n",
       "95171                   NaN                  NaN                  NaN   \n",
       "\n",
       "      AlternateName_NorthAmerica AlternateName_Spain  \\\n",
       "95167                        NaN                 NaN   \n",
       "95168                        NaN                 NaN   \n",
       "95169                        NaN                 NaN   \n",
       "95170                        NaN                 NaN   \n",
       "95171                        NaN                 NaN   \n",
       "\n",
       "      AlternateName_UnitedStates  AlternateName_World  \n",
       "95167                        NaN                  NaN  \n",
       "95168                        NaN                  NaN  \n",
       "95169                        NaN                  NaN  \n",
       "95170                        NaN                  NaN  \n",
       "95171                        NaN                  NaN  \n",
       "\n",
       "[5 rows x 29 columns]"
      ]
     },
     "execution_count": 23,
     "metadata": {},
     "output_type": "execute_result"
    }
   ],
   "source": [
    "platform_df.head()"
   ]
  },
  {
   "cell_type": "code",
   "execution_count": 24,
   "metadata": {},
   "outputs": [],
   "source": [
    "platform_titles = platform_df['Name'].tolist()"
   ]
  },
  {
   "cell_type": "code",
   "execution_count": 28,
   "metadata": {},
   "outputs": [
    {
     "name": "stdout",
     "output_type": "stream",
     "text": [
      "1657\n"
     ]
    }
   ],
   "source": [
    "match_count = 0\n",
    "for title_xml in xml_titles_list:\n",
    "    if any(fuzz.ratio(title_xml, title_platform) > 90 for title_platform in platform_titles):\n",
    "        match_count += 1\n",
    "\n",
    "print(match_count)"
   ]
  },
  {
   "cell_type": "code",
   "execution_count": 29,
   "metadata": {},
   "outputs": [
    {
     "data": {
      "text/plain": [
       "1916"
      ]
     },
     "execution_count": 29,
     "metadata": {},
     "output_type": "execute_result"
    }
   ],
   "source": [
    "len(xml_titles_list)"
   ]
  },
  {
   "cell_type": "code",
   "execution_count": 6,
   "metadata": {},
   "outputs": [],
   "source": [
    "def get_fuzzy(title_a, title_b):\n",
    "    return fuzz.ratio(title_a, title_b)"
   ]
  },
  {
   "cell_type": "code",
   "execution_count": null,
   "metadata": {},
   "outputs": [],
   "source": []
  }
 ],
 "metadata": {
  "kernelspec": {
   "display_name": "base",
   "language": "python",
   "name": "python3"
  },
  "language_info": {
   "codemirror_mode": {
    "name": "ipython",
    "version": 3
   },
   "file_extension": ".py",
   "mimetype": "text/x-python",
   "name": "python",
   "nbconvert_exporter": "python",
   "pygments_lexer": "ipython3",
   "version": "3.9.18"
  }
 },
 "nbformat": 4,
 "nbformat_minor": 2
}
